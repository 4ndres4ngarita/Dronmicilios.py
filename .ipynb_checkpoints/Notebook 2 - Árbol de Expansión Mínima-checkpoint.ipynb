{
 "cells": [
  {
   "cell_type": "markdown",
   "metadata": {},
   "source": [
    "## <center> Notebook 2: Minimum Spanning trees<center>\n",
    "\n",
    "\n",
    "\n",
    "### <center> Andrés José Angarita Sánchez - José Gabriel Díaz Rangel - Juan Sebastian Sandoval Miranda  - 7L<center>\n",
    "\n",
    "\n",
    "### Determinar el arbol minimo generador (Minimum Spanning Trees).\n",
    "\n",
    "\n",
    "### Funcionamiento Teorico MST y Kruskal\n",
    "\n",
    "\n",
    "El algoritmo KRUSKAL lo que plantea basicamente es que para poder mostrar un MST, necesita un grafo completo, esto implica tener el grafo con su lista de vertices y lista de aristas, esa lista de aristas es la lista de conexion que hay entre dos vertices junto con su peso.\n",
    "\n",
    "\n",
    "Este algoritmo parte de un grafo conexo, no dirigido y ponderado, con la lista de las aristas del grafo anterior completamente conectado, este une las aristas de menor peso sin formar ciclos para encontrar el MST, esto quiere decir que el algoritmo empieza buscar aristas del grafo y busca la de menor costo  para seguir eligiendo el camino mas optimo sin generar ciclos entre sus vertices\n",
    "\n",
    "\n",
    "Ademas, el algoritmo va  seleccionando las aristas y las va guardando (cuando no se registre alguno de los dos vertices de esa lista, tomara esa arista, asi a medida que avanza eligira esa arista con el vertice que no exista y esta informacion se ira guardando en el ARBOL MINIMO, generalmente si una arista tiene dos vertices y elegidos y si existe un camino desde ese punto hasta el otro vertice (si existen el camino, el algoritmo va a generar un ciclo y no lo tomara en cuenta)\n",
    "    \n",
    "\n",
    "\n",
    "NOTA: PARA QUE FUNCIONE EL ALGORTIMO EL GRAFO DEBE ESTAR COMPLETAMENTE CONECTADO DESDE EL MENOR COSTO HASTA EL MAYOR, ADICIONALMENTE SE RECOMIENDA IMPLEMENTAR CUALQUIER ALGORITMO PARA VERIFICAR QUE ESTA CONECTADO YA SEA BFS O DFS, TAMBIEN SE REQUIERE UN ALGORITMO DE ORDENAMIENTO,EN NUESTRO CASO UTILIZAMOS EL ALGORITMO DE SELECTION SORT PARA ORDENAR DE MENOR COSTO A MAYOR COSTO.\n",
    "    \n",
    "    \n",
    "Para la solucion de estre problema se destacan dos en especial. el algoritmo **prim** y **Krustal**.\n",
    "En este ejercicio para determina el 'como se compone', el arbol de expancion minimo, se decidió implementar el algoritmo de krustal.\n"
   ]
  },
  {
   "cell_type": "markdown",
   "metadata": {},
   "source": [
    "### IMPLEMENTACION DE KRUSTAL USANDO EL ALGORITMO DFS"
   ]
  },
  {
   "cell_type": "code",
   "execution_count": 8,
   "metadata": {},
   "outputs": [
    {
     "name": "stdout",
     "output_type": "stream",
     "text": [
      " --- REPORTE DE ACTIVIDADES ---\n",
      "toca añadir la arista : (K , L , 282.842712474619) porque no existen uno de los dos vertices\n",
      "toca añadir la arista : (A , C , 316.22776601683796) porque no existen uno de los dos vertices\n",
      "toca añadir la arista : (J , K , 316.22776601683796) porque no existen uno de los dos vertices\n",
      "toca añadir la arista : (J , M , 316.22776601683796) porque no existen uno de los dos vertices\n",
      "toca añadir la arista : (E , H , 360.5551275463989) porque no existen uno de los dos vertices\n",
      "toca añadir la arista : (G , J , 360.5551275463989) porque no existen uno de los dos vertices\n",
      "toca añadir la arista : (N , O , 360.5551275463989) porque no existen uno de los dos vertices\n",
      "toca añadir la arista : (C , F , 412.31056256176606) porque no existen uno de los dos vertices\n",
      "toca añadir la arista : (D , G , 412.31056256176606) porque no existen uno de los dos vertices\n",
      "toca añadir la arista : (B , E , 412.31056256176606) porque no existen uno de los dos vertices\n",
      "toca añadir la arista : (L , P , 412.31056256176606) porque no existen uno de los dos vertices\n",
      "toca añadir la arista : (P , S , 424.26406871192853) porque no existen uno de los dos vertices\n",
      "toca añadir la arista : (H , I , 447.21359549995793) porque no existen uno de los dos vertices\n",
      "toca añadir la arista : (M , Q , 447.21359549995793) porque no existen uno de los dos vertices\n",
      "toca añadir la arista : (G , I , 500.0) porque no existen una ruta para uno de los dos vertices\n",
      "toca añadir la arista : (I , N , 500.0) porque no existen una ruta para uno de los dos vertices\n",
      "toca añadir la arista : (O , T , 565.685424949238) porque no existen uno de los dos vertices\n",
      "toca añadir la arista : (O , R , 583.09518948453) porque no existen uno de los dos vertices\n",
      "toca añadir la arista : (F , K , 583.09518948453) porque no existen una ruta para uno de los dos vertices\n",
      "codigo:  K calle:  7 carrera:  11\n",
      "codigo:  L calle:  5 carrera:  13\n",
      "codigo:  A calle:  2 carrera:  1\n",
      "codigo:  C calle:  5 carrera:  2\n",
      "codigo:  J calle:  10 carrera:  10\n",
      "codigo:  M calle:  11 carrera:  13\n",
      "codigo:  E calle:  18 carrera:  5\n",
      "codigo:  H calle:  20 carrera:  8\n",
      "codigo:  G calle:  12 carrera:  7\n",
      "codigo:  N calle:  19 carrera:  14\n",
      "codigo:  O calle:  16 carrera:  16\n",
      "codigo:  F calle:  4 carrera:  6\n",
      "codigo:  D calle:  11 carrera:  3\n",
      "codigo:  B calle:  19 carrera:  1\n",
      "codigo:  P calle:  4 carrera:  17\n",
      "codigo:  S calle:  1 carrera:  20\n",
      "codigo:  I calle:  16 carrera:  10\n",
      "codigo:  Q calle:  9 carrera:  17\n",
      "codigo:  T calle:  20 carrera:  20\n",
      "codigo:  R calle:  11 carrera:  19\n"
     ]
    },
    {
     "data": {
      "image/png": "[encoded data removed]",
      "text/plain": [
       "<Figure size 432x288 with 1 Axes>"
      ]
     },
     "metadata": {},
     "output_type": "display_data"
    }
   ],
   "source": [
    "from model.vertice import *\n",
    "from model.arista import *\n",
    "from model.grafo import *\n",
    "from model.algoritmosDeExpansion import *\n",
    "from model.algoritmosDeExploracion import *\n",
    "from model.algoritmosDeOrdenamiento import *\n",
    "from grafoDeClientes import MAPA\n",
    "import networkx as nx\n",
    "\n",
    "print(\" --- REPORTE DE ACTIVIDADES ---\")\n",
    "algoritmoKrustal = Kruskal()\n",
    "grafoDeRutasMinimas = algoritmoKrustal.getGrafoDeExpansionMinima( MAPA, algoritmosDeExploracion=DepthFirstSearch)\n",
    "\n",
    "def showGrafo(pgrafo:grafo):#showGrafico\n",
    "    \n",
    "    G=nx.Graph()\n",
    "    nodo_anterior = \"\"\n",
    "    for nodo in pgrafo.verticesV:\n",
    "        \n",
    "        G.add_node(nodo.codigo,pos=(nodo.direccion['calle'],nodo.direccion['carrera']))\n",
    "        print(\"codigo: \",nodo.codigo,\"calle: \",nodo.direccion['calle'],\"carrera: \",nodo.direccion['carrera'])\n",
    "        \n",
    "        for vecino in nodo.vecinos:\n",
    "            if nodo.codigo != nodo_anterior:\n",
    "                G.add_edge(nodo.codigo,vecino)\n",
    "                \n",
    "        nodo_anterior = nodo.codigo\n",
    "    \n",
    "    pos=nx.get_node_attributes(G,\"pos\")    \n",
    "    nx.draw(G,pos,with_labels=True )\n",
    "    \n",
    "\n",
    "showGrafo(grafoDeRutasMinimas)"
   ]
  },
  {
   "cell_type": "markdown",
   "metadata": {},
   "source": [
    "### IMPLEMENTACION DE KRUSTAL USANDO EL ALGORITMO BFS"
   ]
  },
  {
   "cell_type": "code",
   "execution_count": 7,
   "metadata": {},
   "outputs": [
    {
     "name": "stdout",
     "output_type": "stream",
     "text": [
      " --- REPORTE DE ACTIVIDADES ---\n",
      "toca añadir la arista : (K , L , 282.842712474619) porque no existen uno de los dos vertices\n",
      "toca añadir la arista : (A , C , 316.22776601683796) porque no existen uno de los dos vertices\n",
      "toca añadir la arista : (J , K , 316.22776601683796) porque no existen uno de los dos vertices\n",
      "toca añadir la arista : (J , M , 316.22776601683796) porque no existen uno de los dos vertices\n",
      "toca añadir la arista : (E , H , 360.5551275463989) porque no existen uno de los dos vertices\n",
      "toca añadir la arista : (G , J , 360.5551275463989) porque no existen uno de los dos vertices\n",
      "toca añadir la arista : (N , O , 360.5551275463989) porque no existen uno de los dos vertices\n",
      "toca añadir la arista : (C , F , 412.31056256176606) porque no existen uno de los dos vertices\n",
      "toca añadir la arista : (D , G , 412.31056256176606) porque no existen uno de los dos vertices\n",
      "toca añadir la arista : (B , E , 412.31056256176606) porque no existen uno de los dos vertices\n",
      "toca añadir la arista : (L , P , 412.31056256176606) porque no existen uno de los dos vertices\n",
      "toca añadir la arista : (P , S , 424.26406871192853) porque no existen uno de los dos vertices\n",
      "toca añadir la arista : (H , I , 447.21359549995793) porque no existen uno de los dos vertices\n",
      "toca añadir la arista : (M , Q , 447.21359549995793) porque no existen uno de los dos vertices\n",
      "toca añadir la arista : (G , I , 500.0) porque no existen una ruta para uno de los dos vertices\n",
      "toca añadir la arista : (I , N , 500.0) porque no existen una ruta para uno de los dos vertices\n",
      "toca añadir la arista : (O , T , 565.685424949238) porque no existen uno de los dos vertices\n",
      "toca añadir la arista : (O , R , 583.09518948453) porque no existen uno de los dos vertices\n",
      "toca añadir la arista : (F , K , 583.09518948453) porque no existen una ruta para uno de los dos vertices\n",
      "codigo:  K calle:  7 carrera:  11\n",
      "codigo:  L calle:  5 carrera:  13\n",
      "codigo:  A calle:  2 carrera:  1\n",
      "codigo:  C calle:  5 carrera:  2\n",
      "codigo:  J calle:  10 carrera:  10\n",
      "codigo:  M calle:  11 carrera:  13\n",
      "codigo:  E calle:  18 carrera:  5\n",
      "codigo:  H calle:  20 carrera:  8\n",
      "codigo:  G calle:  12 carrera:  7\n",
      "codigo:  N calle:  19 carrera:  14\n",
      "codigo:  O calle:  16 carrera:  16\n",
      "codigo:  F calle:  4 carrera:  6\n",
      "codigo:  D calle:  11 carrera:  3\n",
      "codigo:  B calle:  19 carrera:  1\n",
      "codigo:  P calle:  4 carrera:  17\n",
      "codigo:  S calle:  1 carrera:  20\n",
      "codigo:  I calle:  16 carrera:  10\n",
      "codigo:  Q calle:  9 carrera:  17\n",
      "codigo:  T calle:  20 carrera:  20\n",
      "codigo:  R calle:  11 carrera:  19\n"
     ]
    },
    {
     "data": {
      "image/png": "[encoded data removed]",
      "text/plain": [
       "<Figure size 432x288 with 1 Axes>"
      ]
     },
     "metadata": {},
     "output_type": "display_data"
    }
   ],
   "source": [
    "from model.vertice import *\n",
    "from model.arista import *\n",
    "from model.grafo import *\n",
    "from model.algoritmosDeExpansion import *\n",
    "from model.algoritmosDeExploracion import *\n",
    "from model.algoritmosDeOrdenamiento import *\n",
    "from grafoDeClientes import MAPA\n",
    "import networkx as nx\n",
    "\n",
    "print(\" --- REPORTE DE ACTIVIDADES ---\")\n",
    "algoritmoKrustal = Kruskal()\n",
    "grafoDeRutasMinimas = algoritmoKrustal.getGrafoDeExpansionMinima( MAPA, algoritmosDeExploracion=BreadthFirstSearch)\n",
    "\n",
    "def showGrafo(pgrafo:grafo):#showGrafico\n",
    "    \n",
    "    G=nx.Graph()\n",
    "    nodo_anterior = \"\"\n",
    "    for nodo in pgrafo.verticesV:\n",
    "        \n",
    "        G.add_node(nodo.codigo,pos=(nodo.direccion['calle'],nodo.direccion['carrera']))\n",
    "        print(\"codigo: \",nodo.codigo,\"calle: \",nodo.direccion['calle'],\"carrera: \",nodo.direccion['carrera'])\n",
    "        \n",
    "        for vecino in nodo.vecinos:\n",
    "            if nodo.codigo != nodo_anterior:\n",
    "                G.add_edge(nodo.codigo,vecino)\n",
    "                \n",
    "        nodo_anterior = nodo.codigo\n",
    "    \n",
    "    pos=nx.get_node_attributes(G,\"pos\")    \n",
    "    nx.draw(G,pos,with_labels=True )\n",
    "    \n",
    "\n",
    "showGrafo(grafoDeRutasMinimas)"
   ]
  }
 ],
 "metadata": {
  "kernelspec": {
   "display_name": "Python 3",
   "language": "python",
   "name": "python3"
  },
  "language_info": {
   "codemirror_mode": {
    "name": "ipython",
    "version": 3
   },
   "file_extension": ".py",
   "mimetype": "text/x-python",
   "name": "python",
   "nbconvert_exporter": "python",
   "pygments_lexer": "ipython3",
   "version": "3.8.2"
  }
 },
 "nbformat": 4,
 "nbformat_minor": 4
}
